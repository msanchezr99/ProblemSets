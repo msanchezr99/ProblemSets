{
 "cells": [
  {
   "cell_type": "code",
   "execution_count": null,
   "metadata": {},
   "outputs": [],
   "source": [
    "import pandas as pd\n",
    "import matplotlib.pyplot as plt\n",
    "import seaborn as sns\n",
    "import numpy as np\n",
    "import statsmodels\n",
    "import sklearn.linear_model as lm\n",
    "\n",
    "data=pd.read_csv(\"C:/Users/marti/OneDrive/Documentos/personal/Universidad/Econometria/Proyecto/50_Startups.csv\")#constituents-finantial.csv\")\n",
    "data.info()\n",
    "data.head()\n"
   ]
  },
  {
   "cell_type": "code",
   "execution_count": null,
   "metadata": {},
   "outputs": [],
   "source": [
    "sns.boxplot(x=\"State\",y=\"Profit\",data=data)\n"
   ]
  },
  {
   "cell_type": "code",
   "execution_count": null,
   "metadata": {},
   "outputs": [],
   "source": [
    "sns.heatmap(data.corr(),cmap=\"Blues\")\n",
    "data.corr()"
   ]
  },
  {
   "cell_type": "code",
   "execution_count": null,
   "metadata": {},
   "outputs": [],
   "source": [
    "#Seaborn plot por grupo de estado\n",
    "plt.close()\n",
    "sns.set_style(\"whitegrid\")\n",
    "sns.pairplot(data,hue=\"State\",height=3)\n",
    "plt.show()\n"
   ]
  }
 ],
 "metadata": {
  "language_info": {
   "name": "python"
  },
  "orig_nbformat": 4
 },
 "nbformat": 4,
 "nbformat_minor": 2
}
