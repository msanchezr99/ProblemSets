{
 "cells": [
  {
   "cell_type": "code",
   "execution_count": null,
   "metadata": {},
   "outputs": [],
   "source": [
    "import pandas as pd\n",
    "import numpy as np\n",
    "import matplotlib.pyplot as plt\n",
    "import datetime\n",
    "import statsmodels.api as sm\n",
    "\n",
    "\n",
    "df=pd.read_excel(r\"C:\\Users\\marti\\OneDrive\\Documentos\\personal\\Universidad\\Econometria\\Series_de_tiempo\\sem_9_sp500Dummies.xlsx\", sheet_name=\"table\")\n"
   ]
  },
  {
   "cell_type": "code",
   "execution_count": null,
   "metadata": {},
   "outputs": [],
   "source": [
    "df[\"log_ret\"]=np.log(1+df[\"Open\"].pct_change())\n",
    "df.head()\n",
    "df['Date'] = pd.to_datetime(df['Date'])\n",
    "dummies = pd.get_dummies(df['Date'].dt.strftime('%A'), prefix='dia')\n",
    "df = pd.concat([df, dummies], axis=1)\n",
    "df.drop(0,inplace=True)\n",
    "# Mostrar el DataFrame resultante\n",
    "df.head()"
   ]
  },
  {
   "cell_type": "code",
   "execution_count": null,
   "metadata": {},
   "outputs": [],
   "source": [
    "plt.plot(df[\"log_ret\"])\n",
    "\n",
    "log_ret=df[\"log_ret\"].values\n",
    "log_ret.shape=(log_ret.size,1)\n",
    "matr_dummies=df[[\"dia_Monday\",\"dia_Tuesday\",\"dia_Wednesday\",\"dia_Thursday\",\"dia_Friday\"]].values #Correspondencia entre retornos y dummy activa\n",
    "matr_retornos_dia=log_ret*matr_dummies\n",
    "prom=np.sum(matr_retornos_dia,axis=0)/np.sum(matr_dummies,axis=0)\n",
    "prom"
   ]
  },
  {
   "cell_type": "code",
   "execution_count": null,
   "metadata": {},
   "outputs": [],
   "source": [
    "acf = sm.tsa.acf(df[\"log_ret\"], fft=False)\n",
    "# Trazar el ACFplt.figure(figsize=(10, 4))\n",
    "plt.stem(acf, basefmt=\" \", markerfmt=\"bo\", linefmt=\"b-\")\n",
    "plt.xlabel(\"Lag\")\n",
    "plt.ylabel(\"ACF\")\n",
    "plt.title(\"Función de Autocorrelación (ACF)\")\n",
    "plt.grid(True)\n",
    "plt.show()"
   ]
  },
  {
   "cell_type": "code",
   "execution_count": null,
   "metadata": {},
   "outputs": [],
   "source": [
    "# Estimar un modelo AR(p) con variables dummy\n",
    "\n",
    "df.drop(columns=[\"dia_Friday\"],inplace=True)\n",
    "p =2  # Puedes ajustar este valor según tu elección de orden AR(p)\n",
    "X = df[['dia_Monday', 'dia_Tuesday', 'dia_Wednesday', 'dia_Thursday']]\n",
    "X = sm.add_constant(X)  # Agregar una constante (intercepto) al modelo\n",
    "y = df['log_ret']\n",
    "\n",
    " \n",
    "\n",
    "model = sm.OLS(y, X).fit()\n",
    "print(model.summary())"
   ]
  },
  {
   "cell_type": "code",
   "execution_count": null,
   "metadata": {},
   "outputs": [],
   "source": [
    "model = sm.tsa.AR(df[\"log_ret\"], dates=df.index).fit(maxlag=p, method='mle', ic='aic') # Imprimir los coeficientes AR estimados\n",
    "\n",
    "print(\"Coeficientes AR estimados:\")\n",
    "\n",
    "print(model.params)"
   ]
  }
 ],
 "metadata": {
  "language_info": {
   "name": "python"
  },
  "orig_nbformat": 4
 },
 "nbformat": 4,
 "nbformat_minor": 2
}
