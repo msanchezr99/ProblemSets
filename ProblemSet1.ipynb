{
 "cells": [
  {
   "cell_type": "code",
   "execution_count": 59,
   "metadata": {},
   "outputs": [
    {
     "name": "stdout",
     "output_type": "stream",
     "text": [
      "(51, 3) Index(['State', 'Unemployment', 'Violence'], dtype='object')\n",
      "<class 'pandas.core.frame.DataFrame'>\n",
      "RangeIndex: 51 entries, 0 to 50\n",
      "Data columns (total 3 columns):\n",
      " #   Column        Non-Null Count  Dtype  \n",
      "---  ------        --------------  -----  \n",
      " 0   State         51 non-null     object \n",
      " 1   Unemployment  51 non-null     float64\n",
      " 2   Violence      51 non-null     float64\n",
      "dtypes: float64(2), object(1)\n",
      "memory usage: 1.3+ KB\n",
      "7.2\n",
      "7.2\n"
     ]
    }
   ],
   "source": [
    "import pandas as pd\n",
    "import matplotlib.pyplot as plt\n",
    "import seaborn as sns\n",
    "import numpy as np\n",
    "import statsmodels \n",
    "import sklearn.linear_model as lm\n",
    "\n",
    "\n",
    "#Implementación de ecuación normal\n",
    "def beta(x_train,y_train):\n",
    "    n_data=x_train.shape[0]\n",
    "    ones=np.ones((n_data,1))\n",
    "    A=np.append(ones,x_train,axis=1)\n",
    "    A_t=A.T\n",
    "    beta=(np.linalg.inv(A_t@A)@A_t)@y_train\n",
    "    return beta\n",
    "\n",
    "#Lectura datos\n",
    "data=pd.read_excel(\n",
    "    \"C:/Users/marti/OneDrive/Documentos/personal/Universidad/Econometria/ProblemSets/problemset1.xls\")\n",
    "#Resumen datos\n",
    "print(data.shape,data.columns)\n",
    "data.info()\n",
    "\n",
    "\n",
    "print(data.iat[0,1])\n",
    "print(data.at[0,\"Unemployment\"])\n",
    "data.shape\n",
    "numericdata=data.iloc[:,1:]"
   ]
  },
  {
   "cell_type": "code",
   "execution_count": 72,
   "metadata": {},
   "outputs": [
    {
     "name": "stdout",
     "output_type": "stream",
     "text": [
      "Medias Unemployment      6.764706\n",
      "Violence        385.280392\n",
      "dtype: float64\n",
      "Std Unemployment      1.539328\n",
      "Violence        195.113742\n",
      "dtype: float64\n"
     ]
    },
    {
     "name": "stderr",
     "output_type": "stream",
     "text": [
      "C:\\Users\\marti\\anaconda3\\lib\\site-packages\\seaborn\\axisgrid.py:670: UserWarning: Using the boxplot function without specifying `order` is likely to produce an incorrect plot.\n",
      "  warnings.warn(warning)\n"
     ]
    },
    {
     "data": {
      "image/png": "[encoded data removed]",
      "text/plain": [
       "<Figure size 224x216 with 1 Axes>"
      ]
     },
     "metadata": {},
     "output_type": "display_data"
    },
    {
     "name": "stderr",
     "output_type": "stream",
     "text": [
      "C:\\Users\\marti\\anaconda3\\lib\\site-packages\\seaborn\\axisgrid.py:670: UserWarning: Using the boxplot function without specifying `order` is likely to produce an incorrect plot.\n",
      "  warnings.warn(warning)\n"
     ]
    },
    {
     "data": {
      "image/png": "[encoded data removed]",
      "text/plain": [
       "<Figure size 224x216 with 1 Axes>"
      ]
     },
     "metadata": {},
     "output_type": "display_data"
    }
   ],
   "source": [
    "#Estadísticos descriptivos\n",
    "\n",
    "#Vector medias\n",
    "#print(np.mean(data[\"Unemployment\"]),np.mean(data[\"Violence\"]),sep=\"\\n\")\n",
    "\n",
    "print(\"Medias\",numericdata.mean(0))\n",
    "#Std\n",
    "print(\"Std\",numericdata.std(0))\n",
    "#Boxplot\n",
    "\n",
    "sns.FacetGrid(data,height=3)\\\n",
    "    .map(sns.boxplot,\"Unemployment\")\\\n",
    "    .add_legend() \n",
    "plt.show()\n",
    "sns.FacetGrid(data,height=3)\\\n",
    "    .map(sns.boxplot,\"Violence\")\\\n",
    "    .add_legend() \n",
    "plt.show()\n",
    "\n",
    "\n"
   ]
  },
  {
   "cell_type": "code",
   "execution_count": 31,
   "metadata": {},
   "outputs": [
    {
     "name": "stderr",
     "output_type": "stream",
     "text": [
      "C:\\Users\\marti\\anaconda3\\lib\\site-packages\\seaborn\\distributions.py:2619: FutureWarning: `distplot` is a deprecated function and will be removed in a future version. Please adapt your code to use either `displot` (a figure-level function with similar flexibility) or `histplot` (an axes-level function for histograms).\n",
      "  warnings.warn(msg, FutureWarning)\n"
     ]
    },
    {
     "data": {
      "image/png": "[encoded data removed]",
      "text/plain": [
       "<Figure size 224x216 with 1 Axes>"
      ]
     },
     "metadata": {
      "needs_background": "light"
     },
     "output_type": "display_data"
    },
    {
     "name": "stderr",
     "output_type": "stream",
     "text": [
      "C:\\Users\\marti\\anaconda3\\lib\\site-packages\\seaborn\\distributions.py:2619: FutureWarning: `distplot` is a deprecated function and will be removed in a future version. Please adapt your code to use either `displot` (a figure-level function with similar flexibility) or `histplot` (an axes-level function for histograms).\n",
      "  warnings.warn(msg, FutureWarning)\n"
     ]
    },
    {
     "data": {
      "image/png": "[encoded data removed]",
      "text/plain": [
       "<Figure size 224x216 with 1 Axes>"
      ]
     },
     "metadata": {
      "needs_background": "light"
     },
     "output_type": "display_data"
    }
   ],
   "source": [
    "#sns.displot(data,kind=\"kde\") #cambiar por displot y aprender FacetGrid\n",
    "sns.FacetGrid(data,height=3)\\\n",
    "    .map(sns.distplot,\"Unemployment\")\\\n",
    "    .add_legend() \n",
    "plt.show()\n",
    "sns.FacetGrid(data,height=3)\\\n",
    "    .map(sns.distplot,\"Violence\")\\\n",
    "    .add_legend() \n",
    "plt.show()"
   ]
  },
  {
   "cell_type": "code",
   "execution_count": 40,
   "metadata": {},
   "outputs": [
    {
     "data": {
      "text/plain": [
       "State           District of Columbia\n",
       "Unemployment                     8.5\n",
       "Violence                      1326.8\n",
       "Name: 8, dtype: object"
      ]
     },
     "execution_count": 40,
     "metadata": {},
     "output_type": "execute_result"
    }
   ],
   "source": [
    "#sns.set_style('whitegrid')\n",
    "#sns.FacetGrid(data,hue='State')\\\n",
    "#    .map(plt.scatter, 'Unemployment','Violence')\\\n",
    "#    .add_legend()\n",
    "#plt.show()\n",
    "\n",
    "indice=data[\"Violence\"].idxmax()\n",
    "data.at[indice,\"State\"] #estado con mayor violencia\n",
    "data.iloc[indice,:] #fila completa"
   ]
  },
  {
   "cell_type": "code",
   "execution_count": 73,
   "metadata": {},
   "outputs": [
    {
     "data": {
      "text/plain": [
       "<AxesSubplot:xlabel='Unemployment', ylabel='Violence'>"
      ]
     },
     "execution_count": 73,
     "metadata": {},
     "output_type": "execute_result"
    },
    {
     "data": {
      "image/png": "[encoded data removed]",
      "text/plain": [
       "<Figure size 432x288 with 1 Axes>"
      ]
     },
     "metadata": {},
     "output_type": "display_data"
    }
   ],
   "source": [
    "data.plot(kind='scatter',x='Unemployment',y='Violence')#bivariado\n"
   ]
  },
  {
   "cell_type": "code",
   "execution_count": null,
   "metadata": {},
   "outputs": [],
   "source": [
    "#qqplot errores estandarizados"
   ]
  }
 ],
 "metadata": {
  "interpreter": {
   "hash": "0305797186e5b23b2dbde5736499e01b32f3bcfd44ad4b479fc191776976783f"
  },
  "kernelspec": {
   "display_name": "Python 3.9.7 ('base')",
   "language": "python",
   "name": "python3"
  },
  "language_info": {
   "codemirror_mode": {
    "name": "ipython",
    "version": 3
   },
   "file_extension": ".py",
   "mimetype": "text/x-python",
   "name": "python",
   "nbconvert_exporter": "python",
   "pygments_lexer": "ipython3",
   "version": "3.9.7"
  },
  "orig_nbformat": 4
 },
 "nbformat": 4,
 "nbformat_minor": 2
}
